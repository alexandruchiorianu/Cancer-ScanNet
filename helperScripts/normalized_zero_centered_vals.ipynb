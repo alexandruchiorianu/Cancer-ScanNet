{
 "cells": [
  {
   "cell_type": "code",
   "execution_count": 1,
   "metadata": {},
   "outputs": [],
   "source": [
    "import matplotlib.pyplot as plt\n",
    "\n",
    "\n",
    "import tensorflow as tf\n",
    "from tensorflow.keras.callbacks import TensorBoard\n",
    "from tensorflow.keras.utils import to_categorical\n",
    "from tensorflow.keras.models import Sequential, Model\n",
    "from tensorflow.keras.layers import Dense, Dropout, Activation, Conv2D, Flatten, MaxPooling2D, BatchNormalization, \\\n",
    "SpatialDropout2D, GlobalMaxPooling2D, Input, LeakyReLU, AveragePooling2D, MaxPool2D, Concatenate, Lambda\n",
    "from tensorflow.keras.utils import Sequence\n",
    "import pandas as pd\n",
    "import numpy as np\n",
    "import os\n",
    "import random\n",
    "import cv2\n",
    "\n",
    "import pickle\n",
    "\n",
    "\n",
    "\n",
    "INPUT_FOLDER = 'C:/Users/alexa/___Licenta_v2/dataset/train/'\n",
    "OUTPUT_FOLDER = 'D:/Licenta/new_try_kaggle/cnn_models/'\n",
    "OUTPUT_FOLDER_TB = 'D:/Licenta/new_try_kaggle/cnn_models/tensor_boards/'\n",
    "\n",
    "train_samples = os.listdir(INPUT_FOLDER)\n",
    "train_samples.sort()\n",
    "random.seed(30)\n",
    "random.shuffle(train_samples)\n",
    "\n",
    "labels_df = pd.read_csv('D:/Licenta/new_try_kaggle/train_labels.csv', index_col=0)\n",
    "labels_df['label'] = labels_df['label'].astype(object) "
   ]
  },
  {
   "cell_type": "code",
   "execution_count": 4,
   "metadata": {},
   "outputs": [
    {
     "name": "stderr",
     "output_type": "stream",
     "text": [
      "C:\\Users\\alexa\\AppData\\Local\\conda\\conda\\envs\\licentav2\\lib\\site-packages\\ipykernel_launcher.py:11: FutureWarning: get_value is deprecated and will be removed in a future release. Please use .at[] or .iat[] accessors instead\n",
      "  # This is added back by InteractiveShellApp.init_path()\n"
     ]
    },
    {
     "name": "stdout",
     "output_type": "stream",
     "text": [
      "cancer-8152-non_cancer-11848\n"
     ]
    }
   ],
   "source": [
    "partition = dict()\n",
    "all_labels = dict()\n",
    "partition['train'] = train_samples[:190000]\n",
    "partition['validate'] = train_samples[190000:210000]\n",
    "partition['test'] = train_samples[210000:]\n",
    "\n",
    "all_cancer = list()\n",
    "\n",
    "for sample in train_samples:\n",
    "    \n",
    "    label = labels_df.get_value(sample[:-4], 'label')\n",
    "    all_labels[sample] = label\n",
    "      \n",
    "train_cancer = 0\n",
    "train_non_cancer = 0\n",
    "\n",
    "for key in partition['validate']:\n",
    "    if all_labels[key] == 1:\n",
    "        train_cancer+=1\n",
    "    else:\n",
    "        train_non_cancer+=1\n",
    "        \n",
    "print(f\"cancer-{repr(train_cancer)}-non_cancer-{repr(train_non_cancer)}\")"
   ]
  },
  {
   "cell_type": "code",
   "execution_count": 3,
   "metadata": {},
   "outputs": [
    {
     "name": "stdout",
     "output_type": "stream",
     "text": [
      "10000\n",
      "20000\n",
      "30000\n",
      "40000\n",
      "50000\n",
      "60000\n",
      "70000\n",
      "80000\n",
      "90000\n",
      "100000\n",
      "110000\n",
      "120000\n",
      "130000\n",
      "140000\n",
      "150000\n",
      "160000\n",
      "170000\n",
      "180000\n",
      "190000\n",
      "0.6959249435226393\n",
      "0.5449842052051084\n",
      "0.7023795146212268\n",
      "0.609289586659088\n"
     ]
    }
   ],
   "source": [
    "total_pixels_vals_b = 0\n",
    "total_pixels_vals_g = 0\n",
    "total_pixels_vals_r = 0\n",
    "total_pixels_vals_grey = 0\n",
    "\n",
    "\n",
    "total_pixels= 190000 *32 *32\n",
    "\n",
    "\n",
    "\n",
    "i = 0\n",
    "for sample in partition['train']:\n",
    "    i+=1\n",
    "    if i%10000 == 0:\n",
    "        print(i)\n",
    "    img_array_greyscale = cv2.imread(os.path.join(INPUT_FOLDER, sample),cv2.IMREAD_GRAYSCALE)\n",
    "    img_array_greyscale = img_array_greyscale[32:64,32:64,]\n",
    "    temp_greyscale = img_array_greyscale.sum()\n",
    "    \n",
    "    img_array_rgb = cv2.imread(os.path.join(INPUT_FOLDER, sample))\n",
    "    img_array_rgb = img_array_rgb[32:64,32:64,]\n",
    "    \n",
    "    total_pixels_vals_grey +=temp_greyscale\n",
    "    total_pixels_vals_r += img_array_rgb[:,:,0].sum()\n",
    "    total_pixels_vals_g += img_array_rgb[:,:,1].sum()\n",
    "    total_pixels_vals_b += img_array_rgb[:,:,2].sum()\n",
    "\n",
    "\n",
    "total_pixels_vals_r /= 255.0\n",
    "total_pixels_vals_g /= 255.0\n",
    "total_pixels_vals_b /= 255.0\n",
    "\n",
    "total_pixels_vals_r /= total_pixels\n",
    "total_pixels_vals_g /= total_pixels\n",
    "total_pixels_vals_b /= total_pixels\n",
    "\n",
    "\n",
    "total_pixels_vals_grey /= 255.0\n",
    "total_pixels_vals_grey /= total_pixels\n",
    "\n",
    "print(total_pixels_vals_r)\n",
    "print(total_pixels_vals_g)\n",
    "print(total_pixels_vals_b)\n",
    "print(total_pixels_vals_grey)"
   ]
  },
  {
   "cell_type": "code",
   "execution_count": 7,
   "metadata": {},
   "outputs": [
    {
     "name": "stdout",
     "output_type": "stream",
     "text": [
      "(32, 32, 3)\n"
     ]
    },
    {
     "data": {
      "image/png": "[encoded data removed]",
      "text/plain": [
       "<Figure size 432x288 with 1 Axes>"
      ]
     },
     "metadata": {
      "needs_background": "light"
     },
     "output_type": "display_data"
    }
   ],
   "source": [
    "img_array = cv2.imread(os.path.join(INPUT_FOLDER, '000aa5d8f68dc1f45ebba53b8f159aae80e06072.tif'))\n",
    "\n",
    "img_array = img_array[32:64,32:64,]\n",
    "print(img_array.shape)\n",
    "plt.imshow(img_array)\n",
    "plt.show()"
   ]
  },
  {
   "cell_type": "code",
   "execution_count": null,
   "metadata": {},
   "outputs": [],
   "source": []
  },
  {
   "cell_type": "code",
   "execution_count": null,
   "metadata": {},
   "outputs": [],
   "source": []
  },
  {
   "cell_type": "code",
   "execution_count": null,
   "metadata": {},
   "outputs": [],
   "source": []
  }
 ],
 "metadata": {
  "kernelspec": {
   "display_name": "Python 3",
   "language": "python",
   "name": "python3"
  },
  "language_info": {
   "codemirror_mode": {
    "name": "ipython",
    "version": 3
   },
   "file_extension": ".py",
   "mimetype": "text/x-python",
   "name": "python",
   "nbconvert_exporter": "python",
   "pygments_lexer": "ipython3",
   "version": "3.6.8"
  }
 },
 "nbformat": 4,
 "nbformat_minor": 2
}
